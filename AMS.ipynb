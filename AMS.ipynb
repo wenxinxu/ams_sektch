{
 "cells": [
  {
   "cell_type": "code",
   "execution_count": 5,
   "metadata": {},
   "outputs": [],
   "source": [
    "import numpy as np\n",
    "import matplotlib as plt\n",
    "from collections import Counter"
   ]
  },
  {
   "cell_type": "code",
   "execution_count": 68,
   "metadata": {},
   "outputs": [],
   "source": [
    "# The data stream will be in range [0, n)\n",
    "n = 100\n",
    "#Size of data stream\n",
    "m = 10000 \n",
    "#the k of F_k\n",
    "k = 2\n",
    "#two user defined parameters lambda and eplison, so that Pr(|Y-F_k|>lambda F_k) < eplison\n",
    "lambd = 0.1\n",
    "eplison = 0.1\n",
    "#compute s1 and s2 in the paper\n",
    "S1 = int(np.ceil(8*k*n**(1-1/k)/lambd**2))\n",
    "S2 = int(np.ceil(2*np.log(1/eplison)))"
   ]
  },
  {
   "cell_type": "code",
   "execution_count": 69,
   "metadata": {},
   "outputs": [],
   "source": [
    "# TODO: online update\n",
    "# TODO: timer\n",
    "\n",
    "class AMS_offline(object):\n",
    "    '''\n",
    "    AMS Sketch for offline learning. We precompute the frequency vector of the data\n",
    "    stream. Online update is not implemented yet.\n",
    "    '''\n",
    "\n",
    "    def __init__(self, stream, s1, s2):\n",
    "        '''\n",
    "        Build frequency vector\n",
    "        :param stream: list of non-negative integer in range(0, RANGE)\n",
    "        '''\n",
    "        counter = Counter(stream)\n",
    "        self.frequency_vector = np.array([counter[i] for i in sorted(list(counter))])\n",
    "\n",
    "        self.F_1 = np.sum(self.frequency_vector)\n",
    "        self.s1 = s1\n",
    "        self.s2 = s2\n",
    "        \n",
    "        self.stream = stream\n",
    "\n",
    "    def estimate_F2(self):\n",
    "        '''\n",
    "        Implement the improved estimation of F2 with matrix multiplication.\n",
    "        Uniformly random hashing is used in place of the four-independent hashing\n",
    "        This is not exactly the same as in the original paper, but is the most popular\n",
    "        way for implementation nowadays\n",
    "        :return: estimated F_2\n",
    "        '''\n",
    "        self.hashing_matrix = np.random.choice(a = [1, -1], size=(self.s1, self.s2, RANGE), replace=True)\n",
    "        Z = np.matmul(self.hashing_matrix, self.frequency_vector)\n",
    "        X = np.square(Z)\n",
    "        Y = np.mean(X, axis=0)\n",
    "        estimation = np.median(Y)\n",
    "\n",
    "        return estimation\n",
    "\n",
    "\n",
    "    def estimate_Fk(self, k):\n",
    "        '''\n",
    "        Implement the estimation of Fk\n",
    "        :return: estimated Fk\n",
    "        '''\n",
    "        self.X = np.zeros((self.s1, self.s2))\n",
    "\n",
    "        prob = self.frequency_vector / self.F_1\n",
    "\n",
    "        for i in range(self.s1):\n",
    "            for j in range(self.s2):\n",
    "                idx = np.random.randint(low=0, high=m)\n",
    "                r = np.sum((self.stream==self.stream[idx])[idx:-1])\n",
    "                self.X[i][j] = self.F_1 * (r**k - (r - 1)**k)\n",
    "\n",
    "        Y = np.mean(self.X, axis=0)\n",
    "        estimation = np.median(Y)\n",
    "\n",
    "        return estimation"
   ]
  },
  {
   "cell_type": "code",
   "execution_count": 70,
   "metadata": {},
   "outputs": [],
   "source": [
    "#define a stream\n",
    "a = np.random.randint(low=0, high=RANGE, size=SIZE_STREAM)"
   ]
  },
  {
   "cell_type": "code",
   "execution_count": 71,
   "metadata": {},
   "outputs": [],
   "source": [
    "#compute the ground truth\n",
    "a_counter = Counter(a)\n",
    "frequency_vector = np.array([a_counter[i] for i in sorted(list(a_counter))])\n",
    "ground_true = np.sum(frequency_vector**2)"
   ]
  },
  {
   "cell_type": "code",
   "execution_count": 72,
   "metadata": {},
   "outputs": [
    {
     "name": "stdout",
     "output_type": "stream",
     "text": [
      "1009762\n",
      "1009534.90325\n",
      "1011486.25\n"
     ]
    }
   ],
   "source": [
    "A = AMS_offline(a, S1, S2)\n",
    "AMS1 = A.estimate_F2()\n",
    "AMS2 = A.estimate_Fk(2)\n",
    "\n",
    "\n",
    "print(ground_true)\n",
    "print(AMS1)\n",
    "print(AMS2)"
   ]
  },
  {
   "cell_type": "code",
   "execution_count": null,
   "metadata": {},
   "outputs": [],
   "source": []
  }
 ],
 "metadata": {
  "kernelspec": {
   "display_name": "Python 3",
   "language": "python",
   "name": "python3"
  },
  "language_info": {
   "codemirror_mode": {
    "name": "ipython",
    "version": 3
   },
   "file_extension": ".py",
   "mimetype": "text/x-python",
   "name": "python",
   "nbconvert_exporter": "python",
   "pygments_lexer": "ipython3",
   "version": "3.6.8"
  }
 },
 "nbformat": 4,
 "nbformat_minor": 2
}
