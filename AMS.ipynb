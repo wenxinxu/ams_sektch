{
 "cells": [
  {
   "cell_type": "markdown",
   "metadata": {},
   "source": [
    "# Preamble "
   ]
  },
  {
   "cell_type": "code",
   "execution_count": 25,
   "metadata": {
    "ExecuteTime": {
     "end_time": "2019-06-02T17:28:34.893628Z",
     "start_time": "2019-06-02T17:28:34.883305Z"
    }
   },
   "outputs": [],
   "source": [
    "import numpy as np\n",
    "import matplotlib as plt\n",
    "import time\n",
    "from collections import Counter\n",
    "from importlib import reload\n",
    "\n",
    "import funcs \n",
    "reload(funcs);"
   ]
  },
  {
   "cell_type": "markdown",
   "metadata": {},
   "source": [
    "# Example "
   ]
  },
  {
   "cell_type": "code",
   "execution_count": 57,
   "metadata": {
    "ExecuteTime": {
     "end_time": "2019-06-02T17:56:13.103736Z",
     "start_time": "2019-06-02T17:56:13.098852Z"
    }
   },
   "outputs": [],
   "source": [
    "#Size of data stream\n",
    "m = 1000\n",
    "#the k of F_k\n",
    "k = 2\n",
    "#two user defined parameters lambda and eplison, so that Pr(|Y-F_k|>lambda F_k) < eplison\n",
    "lambd = 0.1\n",
    "eplison = 0.1\n",
    "\n"
   ]
  },
  {
   "cell_type": "code",
   "execution_count": 58,
   "metadata": {
    "ExecuteTime": {
     "end_time": "2019-06-02T17:56:13.487029Z",
     "start_time": "2019-06-02T17:56:13.482868Z"
    }
   },
   "outputs": [],
   "source": [
    "#define a stream\n",
    "a = funcs.stream_distribution(\"Gaussian\", m, 0,20)"
   ]
  },
  {
   "cell_type": "code",
   "execution_count": 59,
   "metadata": {
    "ExecuteTime": {
     "end_time": "2019-06-02T17:56:14.153372Z",
     "start_time": "2019-06-02T17:56:14.147299Z"
    }
   },
   "outputs": [],
   "source": [
    "#compute the ground truth\n",
    "a_counter = Counter(a)\n",
    "frequency_vector = np.array([a_counter[i] for i in sorted(list(a_counter))])\n",
    "ground_truth = np.sum(frequency_vector**2)\n",
    "\n",
    "#the size of N\n",
    "n = frequency_vector.shape[0]"
   ]
  },
  {
   "cell_type": "code",
   "execution_count": 103,
   "metadata": {},
   "outputs": [
    {
     "name": "stdout",
     "output_type": "stream",
     "text": [
      "The ground true value is: 14484\n",
      "F_2 function return AMS sketch: 14478.993 using 0.05405926704406738 second\n",
      "Offline F_k Vec function return AMS sketch: 14653.283 using 0.035396575927734375 second\n",
      "Online F_k Vec function return AMS sketch: 14587.151 using 0.959892988204956 second\n"
     ]
    }
   ],
   "source": [
    "A = AMS_offline(a, lambd, eplison)\n",
    "time1 = time.time()\n",
    "AMS1 = A.estimate_F2()\n",
    "time2 = time.time()\n",
    "# AMS2 = A.estimate_Fk(2)\n",
    "time3 = time.time()\n",
    "AMS3 = A.estimate_Fk_vectorized(k)\n",
    "time4 = time.time()\n",
    "AMS4 = A.estimate_FK_online(k)\n",
    "time5 = time.time()\n",
    "\n",
    "print(\"The ground true value is:\",ground_true)\n",
    "print(\"F_2 function return AMS sketch:\",AMS1.astype(\"float32\"), \"using\",(time2-time1),\"second\")\n",
    "# print(\"F_k function return AMS sketch:\",AMS2.astype(\"float32\"), \"using\",(time3-time2),\"second\")\n",
    "print(\"Offline F_k Vec function return AMS sketch:\",AMS3.astype(\"float32\"), \"using\",(time4-time3),\"second\")\n",
    "print(\"Online F_k Vec function return AMS sketch:\",AMS4.astype(\"float32\"), \"using\",(time5-time4),\"second\")"
   ]
  },
  {
   "cell_type": "code",
   "execution_count": 104,
   "metadata": {},
   "outputs": [
    {
     "name": "stdout",
     "output_type": "stream",
     "text": [
      "The F_2 function return meet the accuracy: True . With error 0.0003456977007971546\n",
      "The Offline F_k function return meet the accuracy: True . With error 0.011687582682084478\n",
      "The Online F_k function return meet the accuracy: True . With error 0.007121763992310169\n"
     ]
    }
   ],
   "source": [
    "###check if the result meet the accuracy\n",
    "print(\"The F_2 function return meet the accuracy:\", np.abs(AMS1-ground_true)<lambd*ground_true,\". With error\",np.abs(AMS1-ground_true)/ground_true)\n",
    "# print(\"The F_k function return meet the accuracy:\", np.abs(AMS2-ground_true)<lambd*ground_true,\". With error\",np.abs(AMS2-ground_true)/ground_true)\n",
    "print(\"The Offline F_k function return meet the accuracy:\", np.abs(AMS3-ground_true)<lambd*ground_true,\". With error\",np.abs(AMS3-ground_true)/ground_true)\n",
    "print(\"The Online F_k function return meet the accuracy:\", np.abs(AMS4-ground_true)<lambd*ground_true,\". With error\",np.abs(AMS4-ground_true)/ground_true)"
   ]
  },
  {
   "cell_type": "code",
   "execution_count": 62,
   "metadata": {
    "ExecuteTime": {
     "end_time": "2019-06-02T17:59:33.838420Z",
     "start_time": "2019-06-02T17:59:32.329833Z"
    }
   },
   "outputs": [
    {
     "name": "stdout",
     "output_type": "stream",
     "text": [
      "hashed value should be {-1, 1}:  [-1.  1.]\n",
      "hashed value should almost sum to 0:  -474.0\n",
      "Total number of elements -- compared to the previous value:  1600000\n"
     ]
    }
   ],
   "source": [
    "# A sanity check for k-independent hashing\n",
    "hashed = k_independent_function_vectorized(k=3, s1=1600, s2=10, r=100)\n",
    "print('hashed value should be {-1, 1}: ', np.unique(hashed))\n",
    "print('hashed value should almost sum to 0: ',np.sum(hashed))\n",
    "print('Total number of elements -- compared to the previous value: ', 1600*10*100)"
   ]
  },
  {
   "cell_type": "code",
   "execution_count": 72,
   "metadata": {
    "ExecuteTime": {
     "end_time": "2019-06-02T18:07:32.890008Z",
     "start_time": "2019-06-02T18:07:32.883332Z"
    }
   },
   "outputs": [],
   "source": [
    "h = funcs.k_independent_function(3)"
   ]
  },
  {
   "cell_type": "code",
   "execution_count": 70,
   "metadata": {
    "ExecuteTime": {
     "end_time": "2019-06-02T18:04:08.443694Z",
     "start_time": "2019-06-02T18:04:08.435776Z"
    }
   },
   "outputs": [
    {
     "data": {
      "text/plain": [
       "1"
      ]
     },
     "execution_count": 70,
     "metadata": {},
     "output_type": "execute_result"
    }
   ],
   "source": []
  },
  {
   "cell_type": "markdown",
   "metadata": {},
   "source": [
    "# Experiments "
   ]
  },
  {
   "cell_type": "code",
   "execution_count": null,
   "metadata": {},
   "outputs": [],
   "source": []
  },
  {
   "cell_type": "markdown",
   "metadata": {},
   "source": [
    "## Experiment 1 "
   ]
  },
  {
   "cell_type": "code",
   "execution_count": null,
   "metadata": {},
   "outputs": [],
   "source": []
  },
  {
   "cell_type": "markdown",
   "metadata": {},
   "source": [
    "## Experiment 2 "
   ]
  },
  {
   "cell_type": "code",
   "execution_count": null,
   "metadata": {},
   "outputs": [],
   "source": []
  },
  {
   "cell_type": "markdown",
   "metadata": {},
   "source": [
    "## Experiment 3 "
   ]
  },
  {
   "cell_type": "code",
   "execution_count": null,
   "metadata": {},
   "outputs": [],
   "source": []
  },
  {
   "cell_type": "markdown",
   "metadata": {},
   "source": [
    "## Experiment 4"
   ]
  },
  {
   "cell_type": "code",
   "execution_count": 73,
   "metadata": {
    "ExecuteTime": {
     "end_time": "2019-06-02T19:30:17.736376Z",
     "start_time": "2019-06-02T19:30:17.731634Z"
    }
   },
   "outputs": [],
   "source": [
    "#Size of data stream\n",
    "m = 1000\n",
    "\n",
    "#independence level \n",
    "k=2\n",
    "\n",
    "#two user defined parameters lambda and eplison, so that Pr(|Y-F_k|>lambda F_k) < eplison\n",
    "lambd = 0.1\n",
    "epsilon = 0.1"
   ]
  },
  {
   "cell_type": "code",
   "execution_count": null,
   "metadata": {},
   "outputs": [],
   "source": [
    "#experiment with gaussian. \n",
    "\n",
    "estimators = [] \n",
    "\n",
    "#repeat some number of times to get a histogram \n",
    "for _ in range(1000): \n",
    "    stream = funcs.stream_distribution('gaussian', m, param1=0, param2=20)\n",
    "    ams = funcs.AMS_offline(stream, lambd, epsilon, 'poly', {'k':2})\n",
    "    estimators.append(ams.estimate_F2())"
   ]
  },
  {
   "cell_type": "code",
   "execution_count": 79,
   "metadata": {
    "ExecuteTime": {
     "end_time": "2019-06-02T20:27:38.777690Z",
     "start_time": "2019-06-02T20:27:38.773735Z"
    }
   },
   "outputs": [],
   "source": [
    "def f(x,kwargs): \n",
    "    return x+ 2"
   ]
  },
  {
   "cell_type": "code",
   "execution_count": 82,
   "metadata": {
    "ExecuteTime": {
     "end_time": "2019-06-02T20:28:03.406238Z",
     "start_time": "2019-06-02T20:28:03.398870Z"
    }
   },
   "outputs": [
    {
     "data": {
      "text/plain": [
       "5"
      ]
     },
     "execution_count": 82,
     "metadata": {},
     "output_type": "execute_result"
    }
   ],
   "source": [
    "f(3, {'y':2})"
   ]
  },
  {
   "cell_type": "code",
   "execution_count": null,
   "metadata": {},
   "outputs": [],
   "source": []
  }
 ],
 "metadata": {
  "kernelspec": {
   "display_name": "Python 3",
   "language": "python",
   "name": "python3"
  },
  "language_info": {
   "codemirror_mode": {
    "name": "ipython",
    "version": 3
   },
   "file_extension": ".py",
   "mimetype": "text/x-python",
   "name": "python",
   "nbconvert_exporter": "python",
   "pygments_lexer": "ipython3",
   "version": "3.6.7"
  },
  "latex_envs": {
   "LaTeX_envs_menu_present": true,
   "autoclose": false,
   "autocomplete": true,
   "bibliofile": "biblio.bib",
   "cite_by": "apalike",
   "current_citInitial": 1,
   "eqLabelWithNumbers": true,
   "eqNumInitial": 1,
   "hotkeys": {
    "equation": "meta-shift-y"
   },
   "labels_anchors": false,
   "latex_user_defs": false,
   "report_style_numbering": false,
   "user_envs_cfg": false
  },
  "toc": {
   "base_numbering": 1,
   "nav_menu": {},
   "number_sections": true,
   "sideBar": true,
   "skip_h1_title": false,
   "title_cell": "Table of Contents",
   "title_sidebar": "Contents",
   "toc_cell": false,
   "toc_position": {
    "height": "calc(100% - 180px)",
    "left": "10px",
    "top": "150px",
    "width": "165px"
   },
   "toc_section_display": true,
   "toc_window_display": true
  }
 },
 "nbformat": 4,
 "nbformat_minor": 2
}
