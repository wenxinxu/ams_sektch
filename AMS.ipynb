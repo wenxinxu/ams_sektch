{
 "cells": [
  {
   "cell_type": "code",
   "execution_count": 21,
   "metadata": {},
   "outputs": [],
   "source": [
    "import numpy as np\n",
    "import matplotlib as plt\n",
    "import time\n",
    "from collections import Counter"
   ]
  },
  {
   "cell_type": "code",
   "execution_count": 72,
   "metadata": {},
   "outputs": [],
   "source": [
    "#Size of data stream\n",
    "m = 1000\n",
    "#the k of F_k\n",
    "k = 2\n",
    "#two user defined parameters lambda and eplison, so that Pr(|Y-F_k|>lambda F_k) < eplison\n",
    "lambd = 0.1\n",
    "eplison = 0.1"
   ]
  },
  {
   "cell_type": "code",
   "execution_count": 79,
   "metadata": {},
   "outputs": [],
   "source": [
    "def stream_distribution(mode,param1=0,param2=0):\n",
    "    if mode==\"uniform\":\n",
    "        return np.random.randint(low=0, high=param1, size=m)\n",
    "    if mode==\"Zipf\":\n",
    "        return np.random.zipf(param1, m)\n",
    "    if mode==\"Gaussian\":\n",
    "        return (np.floor(np.random.normal(loc=param1, scale=param2, size=m))).astype(\"int\")\n",
    "    \n",
    "def online_search(stream):\n",
    "        curr_r = 1\n",
    "        curr_a = stream[0]\n",
    "        for i in np.linspace(1,m-1,m-1):\n",
    "            i = int(i)\n",
    "            rd = np.random.uniform()\n",
    "            if rd < 1/(i+1):\n",
    "                curr_a = stream[i]\n",
    "                curr_r = 1\n",
    "            elif curr_a==stream[i]:\n",
    "                curr_r = curr_r + 1\n",
    "        \n",
    "        return curr_r"
   ]
  },
  {
   "cell_type": "code",
   "execution_count": 80,
   "metadata": {},
   "outputs": [],
   "source": [
    "#define a stream\n",
    "a = stream_distribution(\"Gaussian\",0,20)"
   ]
  },
  {
   "cell_type": "code",
   "execution_count": 81,
   "metadata": {},
   "outputs": [],
   "source": [
    "#compute the ground truth\n",
    "a_counter = Counter(a)\n",
    "frequency_vector = np.array([a_counter[i] for i in sorted(list(a_counter))])\n",
    "ground_true = np.sum(frequency_vector**k)"
   ]
  },
  {
   "cell_type": "code",
   "execution_count": 82,
   "metadata": {},
   "outputs": [],
   "source": [
    "#the size of N\n",
    "n = frequency_vector.shape[0]"
   ]
  },
  {
   "cell_type": "code",
   "execution_count": 95,
   "metadata": {},
   "outputs": [],
   "source": [
    "# TODO: online update\n",
    "\n",
    "class AMS_offline(object):\n",
    "    '''\n",
    "    AMS Sketch for offline learning. We precompute the frequency vector of the data\n",
    "    stream. Online update is not implemented yet.\n",
    "    '''\n",
    "\n",
    "    def __init__(self, stream, lambd, eplison):\n",
    "        '''\n",
    "        Build frequency vector\n",
    "        :param stream: list of non-negative integer in range(0, RANGE)\n",
    "        '''\n",
    "        counter = Counter(stream)\n",
    "        self.frequency_vector = np.array([counter[i] for i in sorted(list(counter))])\n",
    "\n",
    "        self.F_1 = np.sum(self.frequency_vector)\n",
    "        \n",
    "        #compute s1 and s2 in the paper\n",
    "        self.s1 = int(np.ceil(1*k*n**(1-1/k)/lambd**2))\n",
    "        self.s2 = int(np.ceil(2*np.log(1/eplison)))\n",
    "        \n",
    "        self.stream = stream\n",
    "\n",
    "        \n",
    "\n",
    "        \n",
    "    def estimate_F2(self):\n",
    "        '''\n",
    "        Implement the improved estimation of F2 with matrix multiplication.\n",
    "        Uniformly random hashing is used in place of the four-independent hashing\n",
    "        This is not exactly the same as in the original paper, but is the most popular\n",
    "        way for implementation nowadays\n",
    "        :return: estimated F_2\n",
    "        '''\n",
    "        self.hashing_matrix = np.random.choice(a = [1, -1], size=(self.s1, self.s2, n), replace=True)\n",
    "        Z = np.matmul(self.hashing_matrix, self.frequency_vector)\n",
    "        X = np.square(Z)\n",
    "        Y = np.mean(X, axis=0)\n",
    "        estimation = np.median(Y)\n",
    "\n",
    "        return estimation\n",
    "\n",
    "\n",
    "    def estimate_Fk(self, k):\n",
    "        '''\n",
    "        Implement the estimation of Fk\n",
    "        :return: estimated Fk\n",
    "        '''\n",
    "        self.X = np.zeros((self.s1, self.s2))\n",
    "\n",
    "        prob = self.frequency_vector / self.F_1\n",
    "\n",
    "        for i in range(self.s1):\n",
    "            for j in range(self.s2):\n",
    "                idx = np.random.choice(a=n, size=1, p=prob)[0]\n",
    "                r = np.random.randint(low=1, high=self.frequency_vector[idx], size=1)[0]\n",
    "                self.X[i][j] = self.F_1 * (r**k - (r - 1)**k)\n",
    "\n",
    "        Y = np.mean(self.X, axis=0)\n",
    "        estimation = np.median(Y)\n",
    "        \n",
    "        return estimation\n",
    "    \n",
    "    def estimate_Fk_vectorized(self, k):\n",
    "        \n",
    "        prob = self.frequency_vector / self.F_1\n",
    "        idx = np.random.choice(a=n, size=(self.s1, self.s2), p=prob)\n",
    "\n",
    "        onehot_idx = np.eye(n)[idx]\n",
    "        freq = np.matmul(onehot_idx, self.frequency_vector)\n",
    "        offset = np.random.random(size=(self.s1, self.s2))\n",
    "        r = np.round((freq - 1) * offset) + 1\n",
    "\n",
    "\n",
    "        X = (np.power(r, k) - np.power(r-1, k)) * self.F_1\n",
    "        Y = np.mean(X, axis=0)\n",
    "        estimation = np.median(Y)\n",
    "        \n",
    "        return estimation\n",
    "    \n",
    "    def estimate_FK_online(self, k):\n",
    "        \n",
    "        self.X = np.zeros((self.s1, self.s2))\n",
    "        \n",
    "        a = np.ones((self.s1, self.s2))*self.stream[0]\n",
    "        r = np.ones((self.s1, self.s2))\n",
    "        \n",
    "        for i in np.linspace(1,m-1,m-1):\n",
    "            i = int(i)\n",
    "            \n",
    "            r = r + (a == self.stream[i])\n",
    "            \n",
    "            rd = np.random.uniform(size=(self.s1, self.s2))\n",
    "            replace = rd < 1/(i+1)\n",
    "            remain = rd >= 1/(i+1)\n",
    "            \n",
    "            a = (a * remain) + (replace * self.stream[i])\n",
    "            r = (r * remain) + (replace * 1)\n",
    "            \n",
    "        self.X = (np.power(r, k) - np.power(r-1, k)) * self.F_1\n",
    "            \n",
    "\n",
    "        Y = np.mean(self.X, axis=0)\n",
    "        estimation = np.median(Y)\n",
    "        \n",
    "        return estimation\n",
    "            "
   ]
  },
  {
   "cell_type": "code",
   "execution_count": 103,
   "metadata": {},
   "outputs": [
    {
     "name": "stdout",
     "output_type": "stream",
     "text": [
      "The ground true value is: 14484\n",
      "F_2 function return AMS sketch: 14478.993 using 0.05405926704406738 second\n",
      "Offline F_k Vec function return AMS sketch: 14653.283 using 0.035396575927734375 second\n",
      "Online F_k Vec function return AMS sketch: 14587.151 using 0.959892988204956 second\n"
     ]
    }
   ],
   "source": [
    "A = AMS_offline(a, lambd, eplison)\n",
    "time1 = time.time()\n",
    "AMS1 = A.estimate_F2()\n",
    "time2 = time.time()\n",
    "# AMS2 = A.estimate_Fk(2)\n",
    "time3 = time.time()\n",
    "AMS3 = A.estimate_Fk_vectorized(k)\n",
    "time4 = time.time()\n",
    "AMS4 = A.estimate_FK_online(k)\n",
    "time5 = time.time()\n",
    "\n",
    "print(\"The ground true value is:\",ground_true)\n",
    "print(\"F_2 function return AMS sketch:\",AMS1.astype(\"float32\"), \"using\",(time2-time1),\"second\")\n",
    "# print(\"F_k function return AMS sketch:\",AMS2.astype(\"float32\"), \"using\",(time3-time2),\"second\")\n",
    "print(\"Offline F_k Vec function return AMS sketch:\",AMS3.astype(\"float32\"), \"using\",(time4-time3),\"second\")\n",
    "print(\"Online F_k Vec function return AMS sketch:\",AMS4.astype(\"float32\"), \"using\",(time5-time4),\"second\")"
   ]
  },
  {
   "cell_type": "code",
   "execution_count": 104,
   "metadata": {},
   "outputs": [
    {
     "name": "stdout",
     "output_type": "stream",
     "text": [
      "The F_2 function return meet the accuracy: True . With error 0.0003456977007971546\n",
      "The Offline F_k function return meet the accuracy: True . With error 0.011687582682084478\n",
      "The Online F_k function return meet the accuracy: True . With error 0.007121763992310169\n"
     ]
    }
   ],
   "source": [
    "###check if the result meet the accuracy\n",
    "print(\"The F_2 function return meet the accuracy:\", np.abs(AMS1-ground_true)<lambd*ground_true,\". With error\",np.abs(AMS1-ground_true)/ground_true)\n",
    "# print(\"The F_k function return meet the accuracy:\", np.abs(AMS2-ground_true)<lambd*ground_true,\". With error\",np.abs(AMS2-ground_true)/ground_true)\n",
    "print(\"The Offline F_k function return meet the accuracy:\", np.abs(AMS3-ground_true)<lambd*ground_true,\". With error\",np.abs(AMS3-ground_true)/ground_true)\n",
    "print(\"The Online F_k function return meet the accuracy:\", np.abs(AMS4-ground_true)<lambd*ground_true,\". With error\",np.abs(AMS4-ground_true)/ground_true)"
   ]
  },
  {
   "cell_type": "code",
   "execution_count": null,
   "metadata": {},
   "outputs": [],
   "source": []
  }
 ],
 "metadata": {
  "kernelspec": {
   "display_name": "Python 3",
   "language": "python",
   "name": "python3"
  },
  "language_info": {
   "codemirror_mode": {
    "name": "ipython",
    "version": 3
   },
   "file_extension": ".py",
   "mimetype": "text/x-python",
   "name": "python",
   "nbconvert_exporter": "python",
   "pygments_lexer": "ipython3",
   "version": "3.6.8"
  }
 },
 "nbformat": 4,
 "nbformat_minor": 2
}
