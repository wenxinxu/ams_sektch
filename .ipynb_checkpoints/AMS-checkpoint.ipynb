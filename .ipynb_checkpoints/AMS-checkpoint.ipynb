{
 "cells": [
  {
   "cell_type": "markdown",
   "metadata": {},
   "source": [
    "# Preamble "
   ]
  },
  {
   "cell_type": "code",
   "execution_count": 1,
   "metadata": {
    "ExecuteTime": {
     "end_time": "2019-06-03T17:17:16.983429Z",
     "start_time": "2019-06-03T17:17:15.443508Z"
    }
   },
   "outputs": [],
   "source": [
    "import numpy as np\n",
    "import matplotlib.pyplot as plt\n",
    "import time\n",
    "from tqdm import tqdm \n",
    "from collections import Counter\n",
    "from importlib import reload\n",
    "\n",
    "import funcs \n",
    "reload(funcs);"
   ]
  },
  {
   "cell_type": "markdown",
   "metadata": {},
   "source": [
    "# Example "
   ]
  },
  {
   "cell_type": "code",
   "execution_count": 57,
   "metadata": {
    "ExecuteTime": {
     "end_time": "2019-06-02T17:56:13.103736Z",
     "start_time": "2019-06-02T17:56:13.098852Z"
    }
   },
   "outputs": [],
   "source": [
    "#Size of data stream\n",
    "m = 1000\n",
    "#the k of F_k\n",
    "k = 2\n",
    "#two user defined parameters lambda and eplison, so that Pr(|Y-F_k|>lambda F_k) < eplison\n",
    "lambd = 0.1\n",
    "eplison = 0.1\n",
    "\n"
   ]
  },
  {
   "cell_type": "code",
   "execution_count": 5,
   "metadata": {
    "ExecuteTime": {
     "end_time": "2019-06-03T07:38:06.115051Z",
     "start_time": "2019-06-03T07:38:06.097618Z"
    }
   },
   "outputs": [],
   "source": [
    "#define a stream\n",
    "a = funcs.stream_distribution(\"Gaussian\", m, 0,20)"
   ]
  },
  {
   "cell_type": "code",
   "execution_count": 59,
   "metadata": {
    "ExecuteTime": {
     "end_time": "2019-06-02T17:56:14.153372Z",
     "start_time": "2019-06-02T17:56:14.147299Z"
    }
   },
   "outputs": [],
   "source": [
    "#compute the ground truth\n",
    "a_counter = Counter(a)\n",
    "frequency_vector = np.array([a_counter[i] for i in sorted(list(a_counter))])\n",
    "ground_truth = np.sum(frequency_vector**2)\n",
    "\n",
    "#the size of N\n",
    "n = frequency_vector.shape[0]"
   ]
  },
  {
   "cell_type": "code",
   "execution_count": 103,
   "metadata": {},
   "outputs": [
    {
     "name": "stdout",
     "output_type": "stream",
     "text": [
      "The ground true value is: 14484\n",
      "F_2 function return AMS sketch: 14478.993 using 0.05405926704406738 second\n",
      "Offline F_k Vec function return AMS sketch: 14653.283 using 0.035396575927734375 second\n",
      "Online F_k Vec function return AMS sketch: 14587.151 using 0.959892988204956 second\n"
     ]
    }
   ],
   "source": [
    "A = AMS_offline(a, lambd, eplison)\n",
    "time1 = time.time()\n",
    "AMS1 = A.estimate_F2()\n",
    "time2 = time.time()\n",
    "# AMS2 = A.estimate_Fk(2)\n",
    "time3 = time.time()\n",
    "AMS3 = A.estimate_Fk_vectorized(k)\n",
    "time4 = time.time()\n",
    "AMS4 = A.estimate_FK_online(k)\n",
    "time5 = time.time()\n",
    "\n",
    "print(\"The ground true value is:\",ground_true)\n",
    "print(\"F_2 function return AMS sketch:\",AMS1.astype(\"float32\"), \"using\",(time2-time1),\"second\")\n",
    "# print(\"F_k function return AMS sketch:\",AMS2.astype(\"float32\"), \"using\",(time3-time2),\"second\")\n",
    "print(\"Offline F_k Vec function return AMS sketch:\",AMS3.astype(\"float32\"), \"using\",(time4-time3),\"second\")\n",
    "print(\"Online F_k Vec function return AMS sketch:\",AMS4.astype(\"float32\"), \"using\",(time5-time4),\"second\")"
   ]
  },
  {
   "cell_type": "code",
   "execution_count": 104,
   "metadata": {},
   "outputs": [
    {
     "name": "stdout",
     "output_type": "stream",
     "text": [
      "The F_2 function return meet the accuracy: True . With error 0.0003456977007971546\n",
      "The Offline F_k function return meet the accuracy: True . With error 0.011687582682084478\n",
      "The Online F_k function return meet the accuracy: True . With error 0.007121763992310169\n"
     ]
    }
   ],
   "source": [
    "###check if the result meet the accuracy\n",
    "print(\"The F_2 function return meet the accuracy:\", np.abs(AMS1-ground_true)<lambd*ground_true,\". With error\",np.abs(AMS1-ground_true)/ground_true)\n",
    "# print(\"The F_k function return meet the accuracy:\", np.abs(AMS2-ground_true)<lambd*ground_true,\". With error\",np.abs(AMS2-ground_true)/ground_true)\n",
    "print(\"The Offline F_k function return meet the accuracy:\", np.abs(AMS3-ground_true)<lambd*ground_true,\". With error\",np.abs(AMS3-ground_true)/ground_true)\n",
    "print(\"The Online F_k function return meet the accuracy:\", np.abs(AMS4-ground_true)<lambd*ground_true,\". With error\",np.abs(AMS4-ground_true)/ground_true)"
   ]
  },
  {
   "cell_type": "code",
   "execution_count": 62,
   "metadata": {
    "ExecuteTime": {
     "end_time": "2019-06-02T17:59:33.838420Z",
     "start_time": "2019-06-02T17:59:32.329833Z"
    }
   },
   "outputs": [
    {
     "name": "stdout",
     "output_type": "stream",
     "text": [
      "hashed value should be {-1, 1}:  [-1.  1.]\n",
      "hashed value should almost sum to 0:  -474.0\n",
      "Total number of elements -- compared to the previous value:  1600000\n"
     ]
    }
   ],
   "source": [
    "# A sanity check for k-independent hashing\n",
    "hashed = k_independent_function_vectorized(k=3, s1=1600, s2=10, r=100)\n",
    "print('hashed value should be {-1, 1}: ', np.unique(hashed))\n",
    "print('hashed value should almost sum to 0: ',np.sum(hashed))\n",
    "print('Total number of elements -- compared to the previous value: ', 1600*10*100)"
   ]
  },
  {
   "cell_type": "code",
   "execution_count": 72,
   "metadata": {
    "ExecuteTime": {
     "end_time": "2019-06-02T18:07:32.890008Z",
     "start_time": "2019-06-02T18:07:32.883332Z"
    }
   },
   "outputs": [],
   "source": [
    "h = funcs.k_independent_function(3)"
   ]
  },
  {
   "cell_type": "code",
   "execution_count": 70,
   "metadata": {
    "ExecuteTime": {
     "end_time": "2019-06-02T18:04:08.443694Z",
     "start_time": "2019-06-02T18:04:08.435776Z"
    }
   },
   "outputs": [
    {
     "data": {
      "text/plain": [
       "1"
      ]
     },
     "execution_count": 70,
     "metadata": {},
     "output_type": "execute_result"
    }
   ],
   "source": []
  },
  {
   "cell_type": "markdown",
   "metadata": {},
   "source": [
    "# Experiments "
   ]
  },
  {
   "cell_type": "code",
   "execution_count": null,
   "metadata": {},
   "outputs": [],
   "source": []
  },
  {
   "cell_type": "markdown",
   "metadata": {},
   "source": [
    "## Experiment 1 "
   ]
  },
  {
   "cell_type": "code",
   "execution_count": null,
   "metadata": {},
   "outputs": [],
   "source": []
  },
  {
   "cell_type": "markdown",
   "metadata": {},
   "source": [
    "## Experiment 2 "
   ]
  },
  {
   "cell_type": "code",
   "execution_count": null,
   "metadata": {},
   "outputs": [],
   "source": []
  },
  {
   "cell_type": "markdown",
   "metadata": {},
   "source": [
    "## Experiment 3 "
   ]
  },
  {
   "cell_type": "code",
   "execution_count": null,
   "metadata": {},
   "outputs": [],
   "source": []
  },
  {
   "cell_type": "markdown",
   "metadata": {},
   "source": [
    "## Experiment 4"
   ]
  },
  {
   "cell_type": "code",
   "execution_count": 9,
   "metadata": {
    "ExecuteTime": {
     "end_time": "2019-06-03T17:39:39.919910Z",
     "start_time": "2019-06-03T17:39:39.904961Z"
    }
   },
   "outputs": [
    {
     "data": {
      "text/plain": [
       "<module 'funcs' from '/Users/Ismael/code/cs166/ams_sektch/funcs.py'>"
      ]
     },
     "execution_count": 9,
     "metadata": {},
     "output_type": "execute_result"
    }
   ],
   "source": [
    "reload(funcs)"
   ]
  },
  {
   "cell_type": "code",
   "execution_count": 10,
   "metadata": {
    "ExecuteTime": {
     "end_time": "2019-06-03T17:39:40.086040Z",
     "start_time": "2019-06-03T17:39:40.078792Z"
    }
   },
   "outputs": [],
   "source": [
    "estimators = [] "
   ]
  },
  {
   "cell_type": "code",
   "execution_count": 15,
   "metadata": {
    "ExecuteTime": {
     "end_time": "2019-06-03T17:40:00.454281Z",
     "start_time": "2019-06-03T17:40:00.450202Z"
    }
   },
   "outputs": [],
   "source": [
    "#Size of data stream\n",
    "m = int(1e5)\n",
    "\n",
    "#independence level \n",
    "k=2\n",
    "\n",
    "#two user defined parameters lambda and eplison, so that Pr(|Y-F_k|>lambda F_k) < eplison\n",
    "lambd = 0.1\n",
    "epsilon = 0.1\n"
   ]
  },
  {
   "cell_type": "code",
   "execution_count": 16,
   "metadata": {
    "ExecuteTime": {
     "end_time": "2019-06-03T17:40:00.773668Z",
     "start_time": "2019-06-03T17:40:00.660531Z"
    }
   },
   "outputs": [
    {
     "data": {
      "text/plain": [
       "37359"
      ]
     },
     "execution_count": 16,
     "metadata": {},
     "output_type": "execute_result"
    }
   ],
   "source": [
    "stream = funcs.stream_distribution('gaussian', m, param1=0, param2=1e4)\n",
    "funcs.get_frequency_vector(stream).shape[0]"
   ]
  },
  {
   "cell_type": "code",
   "execution_count": 17,
   "metadata": {
    "ExecuteTime": {
     "end_time": "2019-06-03T17:40:06.634570Z",
     "start_time": "2019-06-03T17:40:06.627115Z"
    }
   },
   "outputs": [
    {
     "data": {
      "text/plain": [
       "100000"
      ]
     },
     "execution_count": 17,
     "metadata": {},
     "output_type": "execute_result"
    }
   ],
   "source": [
    "len(stream)"
   ]
  },
  {
   "cell_type": "code",
   "execution_count": 8,
   "metadata": {
    "ExecuteTime": {
     "end_time": "2019-06-03T17:39:36.367809Z",
     "start_time": "2019-06-03T17:39:36.067737Z"
    }
   },
   "outputs": [
    {
     "name": "stderr",
     "output_type": "stream",
     "text": [
      "  0%|          | 0/100 [00:00<?, ?it/s]\n"
     ]
    },
    {
     "ename": "NameError",
     "evalue": "name 'stream' is not defined",
     "output_type": "error",
     "traceback": [
      "\u001b[0;31m---------------------------------------------------------------------------\u001b[0m",
      "\u001b[0;31mNameError\u001b[0m                                 Traceback (most recent call last)",
      "\u001b[0;32m<ipython-input-8-f4a8e0b2bf5e>\u001b[0m in \u001b[0;36m<module>\u001b[0;34m\u001b[0m\n\u001b[1;32m      2\u001b[0m \u001b[0;31m#repeat some number of times to get a histogram\u001b[0m\u001b[0;34m\u001b[0m\u001b[0;34m\u001b[0m\u001b[0;34m\u001b[0m\u001b[0m\n\u001b[1;32m      3\u001b[0m \u001b[0;32mfor\u001b[0m \u001b[0m_\u001b[0m \u001b[0;32min\u001b[0m \u001b[0mtqdm\u001b[0m\u001b[0;34m(\u001b[0m\u001b[0mrange\u001b[0m\u001b[0;34m(\u001b[0m\u001b[0;36m100\u001b[0m\u001b[0;34m)\u001b[0m\u001b[0;34m)\u001b[0m\u001b[0;34m:\u001b[0m\u001b[0;34m\u001b[0m\u001b[0;34m\u001b[0m\u001b[0m\n\u001b[0;32m----> 4\u001b[0;31m     \u001b[0mams\u001b[0m \u001b[0;34m=\u001b[0m \u001b[0mfuncs\u001b[0m\u001b[0;34m.\u001b[0m\u001b[0mAMS_offline\u001b[0m\u001b[0;34m(\u001b[0m\u001b[0mstream\u001b[0m\u001b[0;34m,\u001b[0m \u001b[0mlambd\u001b[0m\u001b[0;34m,\u001b[0m \u001b[0mepsilon\u001b[0m\u001b[0;34m,\u001b[0m \u001b[0;34m'poly'\u001b[0m\u001b[0;34m,\u001b[0m \u001b[0;34m{\u001b[0m\u001b[0;34m'k'\u001b[0m\u001b[0;34m:\u001b[0m\u001b[0;36m2\u001b[0m\u001b[0;34m}\u001b[0m\u001b[0;34m)\u001b[0m\u001b[0;34m\u001b[0m\u001b[0;34m\u001b[0m\u001b[0m\n\u001b[0m\u001b[1;32m      5\u001b[0m     \u001b[0mestimators\u001b[0m\u001b[0;34m.\u001b[0m\u001b[0mappend\u001b[0m\u001b[0;34m(\u001b[0m\u001b[0mams\u001b[0m\u001b[0;34m.\u001b[0m\u001b[0mestimate_F2\u001b[0m\u001b[0;34m(\u001b[0m\u001b[0;34m)\u001b[0m\u001b[0;34m)\u001b[0m\u001b[0;34m\u001b[0m\u001b[0;34m\u001b[0m\u001b[0m\n",
      "\u001b[0;31mNameError\u001b[0m: name 'stream' is not defined"
     ]
    }
   ],
   "source": [
    "#experiment with gaussian. \n",
    "#repeat some number of times to get a histogram \n",
    "for _ in tqdm(range(100)): \n",
    "    ams = funcs.AMS_offline(stream, lambd, epsilon, 'poly', {'k':2})\n",
    "    estimators.append(ams.estimate_F2())"
   ]
  },
  {
   "cell_type": "code",
   "execution_count": 43,
   "metadata": {
    "ExecuteTime": {
     "end_time": "2019-06-03T07:57:04.624572Z",
     "start_time": "2019-06-03T07:57:04.618023Z"
    }
   },
   "outputs": [
    {
     "data": {
      "text/plain": [
       "5"
      ]
     },
     "execution_count": 43,
     "metadata": {},
     "output_type": "execute_result"
    }
   ],
   "source": [
    "ams.s2"
   ]
  },
  {
   "cell_type": "code",
   "execution_count": 40,
   "metadata": {
    "ExecuteTime": {
     "end_time": "2019-06-03T07:56:02.047063Z",
     "start_time": "2019-06-03T07:56:01.822549Z"
    }
   },
   "outputs": [
    {
     "data": {
      "text/plain": [
       "<matplotlib.lines.Line2D at 0x120756fd0>"
      ]
     },
     "execution_count": 40,
     "metadata": {},
     "output_type": "execute_result"
    },
    {
     "data": {
      "image/png": "[encoded data removed]",
      "text/plain": [
       "<Figure size 432x288 with 1 Axes>"
      ]
     },
     "metadata": {
      "needs_background": "light"
     },
     "output_type": "display_data"
    }
   ],
   "source": [
    "plt.hist(estimators, color='r', histtype='step', bins=100);\n",
    "plt.axvline(ams.get_truth(), c='b')"
   ]
  },
  {
   "cell_type": "code",
   "execution_count": 33,
   "metadata": {
    "ExecuteTime": {
     "end_time": "2019-06-03T07:54:25.491278Z",
     "start_time": "2019-06-03T07:54:25.484003Z"
    }
   },
   "outputs": [
    {
     "data": {
      "text/plain": [
       "14962"
      ]
     },
     "execution_count": 33,
     "metadata": {},
     "output_type": "execute_result"
    }
   ],
   "source": [
    "ams.get_truth()"
   ]
  },
  {
   "cell_type": "code",
   "execution_count": 79,
   "metadata": {
    "ExecuteTime": {
     "end_time": "2019-06-02T20:27:38.777690Z",
     "start_time": "2019-06-02T20:27:38.773735Z"
    }
   },
   "outputs": [],
   "source": [
    "def f(x,kwargs): \n",
    "    return x+ 2"
   ]
  },
  {
   "cell_type": "code",
   "execution_count": 82,
   "metadata": {
    "ExecuteTime": {
     "end_time": "2019-06-02T20:28:03.406238Z",
     "start_time": "2019-06-02T20:28:03.398870Z"
    }
   },
   "outputs": [
    {
     "data": {
      "text/plain": [
       "5"
      ]
     },
     "execution_count": 82,
     "metadata": {},
     "output_type": "execute_result"
    }
   ],
   "source": [
    "f(3, {'y':2})"
   ]
  },
  {
   "cell_type": "code",
   "execution_count": null,
   "metadata": {},
   "outputs": [],
   "source": []
  }
 ],
 "metadata": {
  "kernelspec": {
   "display_name": "Python 3",
   "language": "python",
   "name": "python3"
  },
  "language_info": {
   "codemirror_mode": {
    "name": "ipython",
    "version": 3
   },
   "file_extension": ".py",
   "mimetype": "text/x-python",
   "name": "python",
   "nbconvert_exporter": "python",
   "pygments_lexer": "ipython3",
   "version": "3.6.7"
  },
  "latex_envs": {
   "LaTeX_envs_menu_present": true,
   "autoclose": false,
   "autocomplete": true,
   "bibliofile": "biblio.bib",
   "cite_by": "apalike",
   "current_citInitial": 1,
   "eqLabelWithNumbers": true,
   "eqNumInitial": 1,
   "hotkeys": {
    "equation": "meta-shift-y"
   },
   "labels_anchors": false,
   "latex_user_defs": false,
   "report_style_numbering": false,
   "user_envs_cfg": false
  },
  "toc": {
   "base_numbering": 1,
   "nav_menu": {},
   "number_sections": true,
   "sideBar": true,
   "skip_h1_title": false,
   "title_cell": "Table of Contents",
   "title_sidebar": "Contents",
   "toc_cell": false,
   "toc_position": {
    "height": "calc(100% - 180px)",
    "left": "10px",
    "top": "150px",
    "width": "165px"
   },
   "toc_section_display": true,
   "toc_window_display": true
  }
 },
 "nbformat": 4,
 "nbformat_minor": 2
}
