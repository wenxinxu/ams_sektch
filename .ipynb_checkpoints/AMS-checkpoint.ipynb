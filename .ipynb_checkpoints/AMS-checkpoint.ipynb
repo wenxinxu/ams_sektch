{
 "cells": [
  {
   "cell_type": "markdown",
   "metadata": {},
   "source": [
    "# Preamble "
   ]
  },
  {
   "cell_type": "code",
   "execution_count": 18,
   "metadata": {
    "ExecuteTime": {
     "end_time": "2019-06-02T16:13:10.765408Z",
     "start_time": "2019-06-02T16:13:10.755804Z"
    }
   },
   "outputs": [],
   "source": [
    "import numpy as np\n",
    "import matplotlib as plt\n",
    "import time\n",
    "from collections import Counter\n",
    "from importlib import reload\n",
    "\n",
    "import funcs \n",
    "reload(funcs);"
   ]
  },
  {
   "cell_type": "code",
   "execution_count": 8,
   "metadata": {
    "ExecuteTime": {
     "end_time": "2019-06-02T16:09:23.065760Z",
     "start_time": "2019-06-02T16:09:23.039098Z"
    }
   },
   "outputs": [],
   "source": []
  },
  {
   "cell_type": "code",
   "execution_count": 9,
   "metadata": {
    "ExecuteTime": {
     "end_time": "2019-06-02T16:09:26.832296Z",
     "start_time": "2019-06-02T16:09:26.816060Z"
    }
   },
   "outputs": [],
   "source": [
    "#define a stream\n",
    "a = stream_distribution(\"Gaussian\",0,20)"
   ]
  },
  {
   "cell_type": "code",
   "execution_count": 10,
   "metadata": {
    "ExecuteTime": {
     "end_time": "2019-06-02T16:09:28.709024Z",
     "start_time": "2019-06-02T16:09:28.682395Z"
    }
   },
   "outputs": [
    {
     "data": {
      "text/plain": [
       "array([ -7,  18,  30,  -6, -19, -27,   3,  -7,  10, -14, -22,  -5,  32,\n",
       "         4, -19, -14,  -2,  -8, -17, -20,  22,  45, -39, -11,   6, -33,\n",
       "       -26,   7, -26, -16,  -5, -11,  -9,   0, -23, -29, -13,  -7,  10,\n",
       "        -8,   5, -15, -15, -13,  -8,  43,   1,   9, -37, -20,  -7,   2,\n",
       "       -10,  21,   0, -10,  12,  39,  14,   4,  -1,  -6, -32,   9,  27,\n",
       "        19,  10,   2,   6,  11,   1, -14, -10, -37,  -1, -32,  12,  -7,\n",
       "        -5,   3, -19,  25,  21,   2,   1,   3,  -3,  24, -16,  18,   6,\n",
       "       -23, -27,   5, -17, -14, -17, -14, -32,  -3,  -5,  -8,  37, -31,\n",
       "       -18,  12,  23,  18, -10,  -5,   5, -11,   1,  16,   2,  -8,  -8,\n",
       "        13, -13, -10,   7, -11, -22,  -4, -37, -23, -15,  -8,  27,  -1,\n",
       "       -23, -30,  12,  26,   8,   2, -36,  20, -35,  -5, -20,  -4,   0,\n",
       "       -25,   8,  31,  -6, -24, -40,  -3,  -2,   6,  19, -18, -25, -10,\n",
       "        -6, -32, -12,  -1,   4,  26, -55, -19,   4,  16,  45, -18, -37,\n",
       "       -11, -29,  34,  27, -27,  12,  28,  33,   8,  15,   6, -35, -19,\n",
       "        20, -21,  20, -21,  -5,  20,  22,  -5, -13, -17, -30, -16,   3,\n",
       "        -3,  21,  -1, -35,  23, -42,   8,  41,   8,  21,   9,  -3,   4,\n",
       "        -2, -20,   7, -23,  26,  -7, -13,  30,  -2,  15,  24,  28, -18,\n",
       "        18,   3, -27, -36,  23,  23, -30,  20, -23,  -6,   4,  19,  11,\n",
       "       -16,  -1,   7, -21, -18,  29,  11,   8,  18,   2,  21, -14,  42,\n",
       "       -20,  15,   9,   2,  11,   4, -11,   2, -10, -12,   8,  -8,  19,\n",
       "        -7,  -1,  10, -10, -23,  -1,  11,  11,   6,   9, -14, -14, -10,\n",
       "        12,  17,  16,  25,  -9,   9,  -1,   5,   0,  28,  49,   9,  38,\n",
       "       -39, -48,   4,  10, -34, -34, -67, -43,  41, -16, -17, -39,  29,\n",
       "        11, -10,  25, -50,  -5, -12,  16, -10, -25, -25, -14,  15, -38,\n",
       "       -12,  -1, -10,  16,  67,  -7, -14, -15,  -9,  19,  -5,   4,  16,\n",
       "       -15, -24,   3, -21,  12,   9,   7,  13,  18,  -8,  33,  -3,  -4,\n",
       "        -9,  19,   7, -11, -36,  13, -15,   1,  -4,  22,  33,  11,  28,\n",
       "         2,   4,   3, -18, -27,  32,  12, -38,  11, -15,   4, -11,  24,\n",
       "        -9, -17,   2,  17, -28, -21, -17, -24,  23,   8,  37,  18,  28,\n",
       "        19,   2, -30,  -4,  -1,  -9,  -7,  -3, -13,   1,   9,  19, -35,\n",
       "        13, -17,  14,  -1,  16, -11, -11,  -7,   4, -28, -17,   9,   4,\n",
       "        -3,   4, -42,  13,  -5,  17, -28,  42,  48,  -3,  11,   5,  -5,\n",
       "       -20, -10,  20,   6, -11, -17, -16,  10,  13,  12,   4,  -2,  46,\n",
       "        -3,  -1,  30,  14,  -5,  25, -51, -12,  -8,  39, -18,  18,  16,\n",
       "         9,   9,  -8, -19,   3, -24,  12, -29, -14,  -4,   5, -25,  21,\n",
       "       -28,  -9,   9, -19,   2,  21,  21,  -2,  11, -18,  16,   2,  23,\n",
       "       -11, -19,   2,  18,  13,   1, -45, -26,   8,  11, -36,  -1,  -1,\n",
       "        -6,  15, -11,   3, -23,   1, -15,  26,   4,  -9, -15,  -3,  -8,\n",
       "        10,   7,  -2,   4,  13, -14, -40,  -7, -10,   5,  -8,  -9, -29,\n",
       "        11,  22,   1, -22, -10,  14,  12,   2,   0,  -3,   1,  23,  35,\n",
       "         7, -16,  34, -14,   0,  25, -25,   6,   2, -22,  -7,   3,  -3,\n",
       "         7, -10,  13, -33,   2, -10,   0,  -1,  43, -30,  -7,  29,  26,\n",
       "        -6,  -1, -20,  23, -76, -11,  21, -15, -11, -19,  -7, -40,  29,\n",
       "       -30,  -5,  16,   5,  12,   7,  -1, -25, -17,   7, -22, -17,  40,\n",
       "       -27,  52, -27,   6, -34,   5, -29, -21,  22,  -3,   8,  13, -32,\n",
       "       -25, -15, -62,   5,   9,  -7,  10, -32,  23,  16, -28,   6, -18,\n",
       "        12, -27,   2, -34,  20,  -1, -20, -10, -14,  10,   9, -41,  22,\n",
       "       -22,  -4,  40,   8, -21,  -1,   9, -21,  17, -23,  -1,  -9,   5,\n",
       "         9,  -6, -12,  -3,  21,  -1,   2,  19,  28,  10,  18,  -4,  10,\n",
       "        21,   5, -13,  -7,   2,  34,   9,   8, -10, -10, -13, -18, -17,\n",
       "         1, -19,   5,  -5,  14, -15,  23,  -7,   8,  16,  -9,   8, -10,\n",
       "         7,  14, -20,  -7,  -3,  18,  41,  25, -10,  -3,   2,   2, -10,\n",
       "        12,  30, -19,  17,  39,  -2,  -9, -32,   6, -16,  63,  -2,   2,\n",
       "         3,  46,  16,   6,   0,   0,  26, -28,   4,  15, -27, -21,  -7,\n",
       "       -13,   3,  -2, -33,  -8, -16, -16, -52,   9,  10,  17,  -5,  20,\n",
       "       -24, -27, -24,  18,  27,  -9,   1,  24, -31,   0,  18, -22, -43,\n",
       "        17,  -9,   5,  -7,   7, -14, -23,  41,  34,  -8,  28, -32,  13,\n",
       "        19,  -9,  22, -16,  -9,  10,  16, -15,   4,  -9,  12,  -7,  -1,\n",
       "        31,  16, -27,  -5, -31, -17, -18,  -4, -11, -12,  24, -23,  -1,\n",
       "        -7,   1,   1,   5,  16,   0,  -9, -21,   0,   9,   3, -34, -34,\n",
       "       -16,  16,  14, -34,  -4,  17,  -1, -10,  38, -21, -29, -12,   0,\n",
       "        -9, -23,   1, -28, -38,  20,  -3,  14, -41, -34,  -7, -41,  14,\n",
       "        -7,   6,  10,  -1, -19,  28,  -6, -27, -12, -15, -20, -48,  21,\n",
       "         8,  -1,  11,  21,  10,  13, -13,   2, -27,  23,   0, -34,  50,\n",
       "       -15,   6, -12, -25, -23,  -3, -22,  -1, -14, -48,  24,  12,   7,\n",
       "        -5,   7,  21,  28,   7,   0, -30,  -6,  46,   9,  10,  -6, -20,\n",
       "       -18,  17,  10,  -2,  32, -26, -27, -22,  24,   6, -13, -39, -18,\n",
       "        -9, -27,  14,  -7,   4,   5,  33,  21,   1,  11, -21, -31,  -9,\n",
       "       -10,   1, -16,  16,  36, -14,   1,  -5,  -6,  21,   6,   5, -19,\n",
       "         2,  10, -29, -13,   3,  18, -23,  27, -11, -49,  25, -14, -16,\n",
       "       -18, -19,  17,  10,   3,  -3,  20,   4,  -9, -17, -10,   3, -30,\n",
       "         6,  11,  -3,   4, -13,  28,  13, -25,   5,  38,  23, -14, -14,\n",
       "       -15, -27,   3,   4,   4,   1,   9, -27,  23,   4,   0,  12, -12,\n",
       "       -10,   9,   5,   4,  -4,  -7,  -9, -20,  29,  13, -16, -15,  -5,\n",
       "        39,  26, -28,  13,  -9,   3, -10,  26,  -3,   2, -33, -20, -23,\n",
       "       -36,   0,   6, -11,   9,  11, -14,  21, -18,  17,  -1,  72,  20,\n",
       "        -6, -34, -12, -17, -36,  24, -36, -15, -10,  -2,  -2,   9])"
      ]
     },
     "execution_count": 10,
     "metadata": {},
     "output_type": "execute_result"
    }
   ],
   "source": [
    "a"
   ]
  },
  {
   "cell_type": "code",
   "execution_count": 14,
   "metadata": {
    "ExecuteTime": {
     "end_time": "2019-06-02T16:12:28.357180Z",
     "start_time": "2019-06-02T16:12:28.341688Z"
    }
   },
   "outputs": [],
   "source": [
    "#compute the ground truth\n",
    "a_counter = Counter(a)\n",
    "frequency_vector = np.array([a_counter[i] for i in sorted(list(a_counter))])\n",
    "ground_true = np.sum(frequency_vector**2)"
   ]
  },
  {
   "cell_type": "code",
   "execution_count": 15,
   "metadata": {
    "ExecuteTime": {
     "end_time": "2019-06-02T16:12:33.591912Z",
     "start_time": "2019-06-02T16:12:33.583575Z"
    }
   },
   "outputs": [
    {
     "data": {
      "text/plain": [
       "array([ 1,  1,  1,  1,  1,  1,  1,  1,  3,  1,  2,  2,  3,  3,  4,  3,  4,\n",
       "        7,  4, 10,  4,  8,  4,  8,  7,  8, 17,  4, 10,  6, 15,  9, 12, 13,\n",
       "       14, 15, 16, 15, 18, 21, 13, 12, 18, 29, 24, 15, 26, 13, 20, 11, 22,\n",
       "       13, 29, 17, 19, 26, 18, 26, 19, 18, 16, 15, 25, 19, 17, 17, 15, 10,\n",
       "        6, 18, 11, 14, 10, 11, 17,  7, 13,  8,  7,  8,  5, 10,  5,  4,  2,\n",
       "        3,  4,  4,  1,  1,  2,  3,  4,  2,  4,  2,  2,  2,  3,  1,  1,  1,\n",
       "        1,  1,  1,  1])"
      ]
     },
     "execution_count": 15,
     "metadata": {},
     "output_type": "execute_result"
    }
   ],
   "source": [
    "frequency_vector"
   ]
  },
  {
   "cell_type": "code",
   "execution_count": 82,
   "metadata": {},
   "outputs": [],
   "source": [
    "#the size of N\n",
    "n = frequency_vector.shape[0]"
   ]
  },
  {
   "cell_type": "code",
   "execution_count": 95,
   "metadata": {},
   "outputs": [],
   "source": []
  },
  {
   "cell_type": "code",
   "execution_count": 103,
   "metadata": {},
   "outputs": [
    {
     "name": "stdout",
     "output_type": "stream",
     "text": [
      "The ground true value is: 14484\n",
      "F_2 function return AMS sketch: 14478.993 using 0.05405926704406738 second\n",
      "Offline F_k Vec function return AMS sketch: 14653.283 using 0.035396575927734375 second\n",
      "Online F_k Vec function return AMS sketch: 14587.151 using 0.959892988204956 second\n"
     ]
    }
   ],
   "source": [
    "A = AMS_offline(a, lambd, eplison)\n",
    "time1 = time.time()\n",
    "AMS1 = A.estimate_F2()\n",
    "time2 = time.time()\n",
    "# AMS2 = A.estimate_Fk(2)\n",
    "time3 = time.time()\n",
    "AMS3 = A.estimate_Fk_vectorized(k)\n",
    "time4 = time.time()\n",
    "AMS4 = A.estimate_FK_online(k)\n",
    "time5 = time.time()\n",
    "\n",
    "print(\"The ground true value is:\",ground_true)\n",
    "print(\"F_2 function return AMS sketch:\",AMS1.astype(\"float32\"), \"using\",(time2-time1),\"second\")\n",
    "# print(\"F_k function return AMS sketch:\",AMS2.astype(\"float32\"), \"using\",(time3-time2),\"second\")\n",
    "print(\"Offline F_k Vec function return AMS sketch:\",AMS3.astype(\"float32\"), \"using\",(time4-time3),\"second\")\n",
    "print(\"Online F_k Vec function return AMS sketch:\",AMS4.astype(\"float32\"), \"using\",(time5-time4),\"second\")"
   ]
  },
  {
   "cell_type": "code",
   "execution_count": 104,
   "metadata": {},
   "outputs": [
    {
     "name": "stdout",
     "output_type": "stream",
     "text": [
      "The F_2 function return meet the accuracy: True . With error 0.0003456977007971546\n",
      "The Offline F_k function return meet the accuracy: True . With error 0.011687582682084478\n",
      "The Online F_k function return meet the accuracy: True . With error 0.007121763992310169\n"
     ]
    }
   ],
   "source": [
    "###check if the result meet the accuracy\n",
    "print(\"The F_2 function return meet the accuracy:\", np.abs(AMS1-ground_true)<lambd*ground_true,\". With error\",np.abs(AMS1-ground_true)/ground_true)\n",
    "# print(\"The F_k function return meet the accuracy:\", np.abs(AMS2-ground_true)<lambd*ground_true,\". With error\",np.abs(AMS2-ground_true)/ground_true)\n",
    "print(\"The Offline F_k function return meet the accuracy:\", np.abs(AMS3-ground_true)<lambd*ground_true,\". With error\",np.abs(AMS3-ground_true)/ground_true)\n",
    "print(\"The Online F_k function return meet the accuracy:\", np.abs(AMS4-ground_true)<lambd*ground_true,\". With error\",np.abs(AMS4-ground_true)/ground_true)"
   ]
  },
  {
   "cell_type": "code",
   "execution_count": 17,
   "metadata": {},
   "outputs": [
    {
     "name": "stdout",
     "output_type": "stream",
     "text": [
      "hashed value should be {-1, 1}:  [-1.  1.]\n",
      "hashed value should almost sum to 0:  1076.0\n",
      "Total number of elements -- compared to the previous value:  1600000\n"
     ]
    }
   ],
   "source": [
    "# A sanity check for k-independent hashing\n",
    "hashed = k_independent_function_vectorized(k=3, s1=1600, s2=10, r=100)\n",
    "print('hashed value should be {-1, 1}: ', np.unique(hashed))\n",
    "print('hashed value should almost sum to 0: ',np.sum(hashed))\n",
    "print('Total number of elements -- compared to the previous value: ', 1600*10*100)"
   ]
  },
  {
   "cell_type": "markdown",
   "metadata": {},
   "source": [
    "# Experiments "
   ]
  },
  {
   "cell_type": "code",
   "execution_count": null,
   "metadata": {},
   "outputs": [],
   "source": [
    "#Size of data stream\n",
    "m = 1000\n",
    "#the k of F_k\n",
    "k = 2\n",
    "#two user defined parameters lambda and eplison, so that Pr(|Y-F_k|>lambda F_k) < eplison\n",
    "lambd = 0.1\n",
    "eplison = 0.1\n",
    "\n"
   ]
  },
  {
   "cell_type": "markdown",
   "metadata": {},
   "source": [
    "## Experiment 1 "
   ]
  },
  {
   "cell_type": "code",
   "execution_count": null,
   "metadata": {},
   "outputs": [],
   "source": []
  },
  {
   "cell_type": "markdown",
   "metadata": {},
   "source": [
    "## Experiment 2 "
   ]
  },
  {
   "cell_type": "code",
   "execution_count": null,
   "metadata": {},
   "outputs": [],
   "source": []
  },
  {
   "cell_type": "markdown",
   "metadata": {},
   "source": [
    "## Experiment 3 "
   ]
  },
  {
   "cell_type": "code",
   "execution_count": null,
   "metadata": {},
   "outputs": [],
   "source": []
  },
  {
   "cell_type": "markdown",
   "metadata": {},
   "source": [
    "## Experiment 4"
   ]
  },
  {
   "cell_type": "code",
   "execution_count": null,
   "metadata": {},
   "outputs": [],
   "source": []
  }
 ],
 "metadata": {
  "kernelspec": {
   "display_name": "Python 3",
   "language": "python",
   "name": "python3"
  },
  "language_info": {
   "codemirror_mode": {
    "name": "ipython",
    "version": 3
   },
   "file_extension": ".py",
   "mimetype": "text/x-python",
   "name": "python",
   "nbconvert_exporter": "python",
   "pygments_lexer": "ipython3",
   "version": "3.6.7"
  },
  "latex_envs": {
   "LaTeX_envs_menu_present": true,
   "autoclose": false,
   "autocomplete": true,
   "bibliofile": "biblio.bib",
   "cite_by": "apalike",
   "current_citInitial": 1,
   "eqLabelWithNumbers": true,
   "eqNumInitial": 1,
   "hotkeys": {
    "equation": "meta-shift-y"
   },
   "labels_anchors": false,
   "latex_user_defs": false,
   "report_style_numbering": false,
   "user_envs_cfg": false
  },
  "toc": {
   "base_numbering": 1,
   "nav_menu": {},
   "number_sections": true,
   "sideBar": true,
   "skip_h1_title": false,
   "title_cell": "Table of Contents",
   "title_sidebar": "Contents",
   "toc_cell": false,
   "toc_position": {
    "height": "calc(100% - 180px)",
    "left": "10px",
    "top": "150px",
    "width": "165px"
   },
   "toc_section_display": true,
   "toc_window_display": true
  }
 },
 "nbformat": 4,
 "nbformat_minor": 2
}
